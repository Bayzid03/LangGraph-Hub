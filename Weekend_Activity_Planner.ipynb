{
  "nbformat": 4,
  "nbformat_minor": 0,
  "metadata": {
    "colab": {
      "provenance": [],
      "authorship_tag": "ABX9TyPXJ+iHZ0VWv0m2rxiktOJG",
      "include_colab_link": true
    },
    "kernelspec": {
      "name": "python3",
      "display_name": "Python 3"
    },
    "language_info": {
      "name": "python"
    }
  },
  "cells": [
    {
      "cell_type": "markdown",
      "metadata": {
        "id": "view-in-github",
        "colab_type": "text"
      },
      "source": [
        "<a href=\"https://colab.research.google.com/github/Bayzid03/LangGraph-Hub/blob/main/Weekend_Activity_Planner.ipynb\" target=\"_parent\"><img src=\"https://colab.research.google.com/assets/colab-badge.svg\" alt=\"Open In Colab\"/></a>"
      ]
    },
    {
      "cell_type": "markdown",
      "source": [
        "Still Working on this project"
      ],
      "metadata": {
        "id": "YO-Eh9i4_iAv"
      }
    },
    {
      "cell_type": "code",
      "source": [
        "!pip install langgraph langchain-google-genai python-dotenv"
      ],
      "metadata": {
        "id": "rcVw8o5RTCBy"
      },
      "execution_count": null,
      "outputs": []
    },
    {
      "cell_type": "code",
      "execution_count": 10,
      "metadata": {
        "id": "sBSMXvh-zqUp"
      },
      "outputs": [],
      "source": [
        "import os\n",
        "from typing import TypedDict, Annotated, List\n",
        "from langgraph.graph import StateGraph, END\n",
        "from langchain_core.messages import HumanMessage, AIMessage\n",
        "from langchain_core.prompts import ChatPromptTemplate\n",
        "from langchain_google_genai import ChatGoogleGenerativeAI\n",
        "from langchain_core.runnables.graph import MermaidDrawMethod\n",
        "from IPython.display import display, Image\n",
        "from dotenv import load_dotenv\n",
        "import random"
      ]
    },
    {
      "cell_type": "code",
      "source": [
        "from google.colab import userdata\n",
        "\n",
        "# Explicitly get the API key from Colab secrets\n",
        "api_key = userdata.get('GEMINI_API_KEY')\n",
        "\n",
        "# Pass the API key to the ChatGoogleGenerativeAI model\n",
        "llm = ChatGoogleGenerativeAI(model=\"gemini-2.5-flash-preview-05-20\", temperature=0.7, google_api_key=api_key)"
      ],
      "metadata": {
        "id": "v6YLzHvS3PAh"
      },
      "execution_count": 11,
      "outputs": []
    },
    {
      "cell_type": "code",
      "source": [
        "# Define Agent state\n",
        "class WeekendPlannerState(TypedDict):\n",
        "    messages: Annotated[List[HumanMessage | AIMessage], \"The messages in the conversation\"]\n",
        "    location: str\n",
        "    preferences: List[str]\n",
        "    weather_info: str\n",
        "    weekend_plan: str\n",
        "\n",
        "# Prompt templates\n",
        "weather_prompt = ChatPromptTemplate.from_messages([\n",
        "    (\"system\", \"You are a weather assistant. Provide a realistic weekend weather forecast for {location}. Include Saturday and Sunday conditions, temperature, and any weather advisories.\"),\n",
        "    (\"human\", \"What's the weather forecast for this weekend in {location}?\"),\n",
        "])\n",
        "\n",
        "weekend_plan_prompt = ChatPromptTemplate.from_messages([\n",
        "    (\"system\", \"\"\"You are a helpful weekend activity planner. Create a comprehensive 2-day weekend plan for {location} based on the user's preferences: {preferences} and current weather conditions: {weather_info}.\n",
        "\n",
        "Structure your response as:\n",
        "**SATURDAY**\n",
        "- Morning (9 AM - 12 PM): [Activity]\n",
        "- Afternoon (12 PM - 5 PM): [Activity]\n",
        "- Evening (5 PM - 9 PM): [Activity]\n",
        "\n",
        "**SUNDAY**\n",
        "- Morning (9 AM - 12 PM): [Activity]\n",
        "- Afternoon (12 PM - 5 PM): [Activity]\n",
        "- Evening (5 PM - 9 PM): [Activity]\n",
        "\n",
        "Consider weather conditions and provide specific locations, addresses when possible, and brief descriptions of each activity.\"\"\"),\n",
        "    (\"human\", \"Create a weekend activity plan for me.\"),\n",
        "])"
      ],
      "metadata": {
        "id": "ClCuHaBn3tp8"
      },
      "execution_count": 12,
      "outputs": []
    },
    {
      "cell_type": "code",
      "source": [
        "# Defining Agent Functions\n",
        "def input_location(state: WeekendPlannerState) -> WeekendPlannerState:\n",
        "    print(\"Please enter your city/location for the weekend activities:\")\n",
        "    user_message = input(\"Your input: \")\n",
        "    return {\n",
        "        **state,\n",
        "        \"location\": user_message,\n",
        "        \"messages\": state['messages'] + [HumanMessage(content=user_message)],\n",
        "    }\n",
        "\n",
        "def input_preferences(state: WeekendPlannerState) -> WeekendPlannerState:\n",
        "    print(f\"Please enter your activity preferences for {state['location']} (comma-separated):\")\n",
        "    print(\"Examples: outdoor activities, museums, restaurants, shopping, nightlife, cultural sites, adventure sports, relaxing activities\")\n",
        "    user_message = input(\"Your input: \")\n",
        "    return {\n",
        "        **state,\n",
        "        \"preferences\": [preference.strip() for preference in user_message.split(',')],\n",
        "        \"messages\": state['messages'] + [HumanMessage(content=user_message)],\n",
        "    }\n",
        "\n",
        "def check_weather(state: WeekendPlannerState) -> WeekendPlannerState:\n",
        "    print(f\"Checking weather forecast for {state['location']}...\")\n",
        "\n",
        "    # Get weather forecast using LLM\n",
        "    response = llm.invoke(weather_prompt.format_messages(location=state['location']))\n",
        "    weather_info = response.content\n",
        "\n",
        "    print(f\"\\nWeather Forecast:\")\n",
        "    print(weather_info)\n",
        "    print(\"\\n\" + \"=\"*50 + \"\\n\")\n",
        "\n",
        "    return {\n",
        "        **state,\n",
        "        \"weather_info\": weather_info,\n",
        "        \"messages\": state['messages'] + [AIMessage(content=weather_info)],\n",
        "    }\n",
        "\n",
        "def create_weekend_plan(state: WeekendPlannerState) -> WeekendPlannerState:\n",
        "    print(f\"Creating weekend activity plan for {state['location']}...\")\n",
        "    print(f\"Based on preferences: {', '.join(state['preferences'])}\")\n",
        "    print(\"Considering weather conditions...\\n\")\n",
        "\n",
        "    response = llm.invoke(weekend_plan_prompt.format_messages(\n",
        "        location=state['location'],\n",
        "        preferences=\", \".join(state['preferences']),\n",
        "        weather_info=state['weather_info']\n",
        "    ))\n",
        "\n",
        "    print(\"🎉 Your Weekend Activity Plan:\")\n",
        "    print(\"=\"*50)\n",
        "    print(response.content)\n",
        "    print(\"=\"*50)\n",
        "\n",
        "    return {\n",
        "        **state,\n",
        "        \"messages\": state['messages'] + [AIMessage(content=response.content)],\n",
        "        \"weekend_plan\": response.content,\n",
        "    }"
      ],
      "metadata": {
        "id": "PBDMuCG74Hr_"
      },
      "execution_count": 13,
      "outputs": []
    },
    {
      "cell_type": "code",
      "source": [
        "# Create and Compile the Graph\n",
        "workflow = StateGraph(WeekendPlannerState)\n",
        "\n",
        "workflow.add_node(\"input_location\", input_location)\n",
        "workflow.add_node(\"input_preferences\", input_preferences)\n",
        "workflow.add_node(\"check_weather\", check_weather)\n",
        "workflow.add_node(\"create_weekend_plan\", create_weekend_plan)\n",
        "\n",
        "workflow.set_entry_point(\"input_location\")\n",
        "\n",
        "workflow.add_edge(\"input_location\", \"input_preferences\")\n",
        "workflow.add_edge(\"input_preferences\", \"check_weather\")\n",
        "workflow.add_edge(\"check_weather\", \"create_weekend_plan\")\n",
        "workflow.add_edge(\"create_weekend_plan\", END)\n",
        "\n",
        "app = workflow.compile()"
      ],
      "metadata": {
        "id": "HZcW7VjhXIRp"
      },
      "execution_count": 14,
      "outputs": []
    },
    {
      "cell_type": "code",
      "source": [
        "# Display the graph structure\n",
        "display(Image(app.get_graph().draw_mermaid_png(draw_method=MermaidDrawMethod.API)))"
      ],
      "metadata": {
        "id": "ByulPYpvYNNB",
        "colab": {
          "base_uri": "https://localhost:8080/",
          "height": 548
        },
        "outputId": "502090b8-d517-454b-d7c2-2c65bb957292"
      },
      "execution_count": 15,
      "outputs": [
        {
          "output_type": "display_data",
          "data": {
            "image/png": "[encoded data removed]",
            "text/plain": [
              "<IPython.core.display.Image object>"
            ]
          },
          "metadata": {}
        }
      ]
    },
    {
      "cell_type": "code",
      "source": [
        "# Define the function that runs the graph\n",
        "def run_weekend_planner(user_request: str):\n",
        "    print(f\"🌟 Initial Request: {user_request}\\n\")\n",
        "    print(\"=\"*50)\n",
        "\n",
        "    state = {\n",
        "        \"messages\": [HumanMessage(content=user_request)],\n",
        "        \"location\": \"\",\n",
        "        \"preferences\": [],\n",
        "        \"weather_info\": \"\",\n",
        "        \"weekend_plan\": \"\",\n",
        "    }\n",
        "\n",
        "    for output in app.stream(state):\n",
        "        pass  # The nodes themselves handle all printing\n",
        "\n",
        "    print(\"\\n🎊 Weekend planning completed! Have a great weekend!\")\n",
        "\n",
        "if __name__ == \"__main__\":\n",
        "    user_request = \"I want to plan activities for this weekend.\"\n",
        "    run_weekend_planner(user_request)"
      ],
      "metadata": {
        "id": "krUFi0NgYblD",
        "colab": {
          "base_uri": "https://localhost:8080/"
        },
        "outputId": "753b9538-e8c5-41ff-d74f-0fd0f2f1d314"
      },
      "execution_count": 16,
      "outputs": [
        {
          "output_type": "stream",
          "name": "stdout",
          "text": [
            "🌟 Initial Request: I want to plan activities for this weekend.\n",
            "\n",
            "==================================================\n",
            "Please enter your city/location for the weekend activities:\n",
            "Your input: Dhaka\n",
            "Please enter your activity preferences for Dhaka (comma-separated):\n",
            "Examples: outdoor activities, museums, restaurants, shopping, nightlife, cultural sites, adventure sports, relaxing activities\n",
            "Your input: museums\n",
            "Checking weather forecast for Dhaka...\n",
            "\n",
            "Weather Forecast:\n",
            "Here's your weekend weather forecast for Dhaka, bringing you the latest updates for Saturday and Sunday:\n",
            "\n",
            "**Overall Outlook:**\n",
            "Expect a hot and very humid weekend in Dhaka, with a mix of sunshine and clouds. There's a moderate to high chance of isolated to scattered thundershowers, particularly during the late afternoon or evening hours, which could bring temporary relief from the heat.\n",
            "\n",
            "---\n",
            "\n",
            "### **Saturday, [Current Date + 1 or 2 days for Saturday]**\n",
            "\n",
            "*   **Conditions:** The day is expected to start mostly sunny and clear, but haze will be present. As the day progresses, clouds will build up, especially in the afternoon. There's a **moderate chance (around 40-50%) of isolated, brief thundershowers** primarily during the late afternoon or early evening. These could be accompanied by gusty winds and localized heavy downpours.\n",
            "*   **Temperature:**\n",
            "    *   **High:** Around **34-36°C (93-97°F)**\n",
            "    *   **Low:** Overnight around **26-28°C (79-82°F)**\n",
            "*   **Humidity:** Very high, making it feel significantly warmer. The 'RealFeel' temperature could easily reach **40-42°C (104-108°F)** at peak.\n",
            "*   **Wind:** Light to moderate, mainly from the South or Southeast.\n",
            "\n",
            "---\n",
            "\n",
            "### **Sunday, [Current Date + 2 or 3 days for Sunday]**\n",
            "\n",
            "*   **Conditions:** Similar conditions are anticipated for Sunday. Expect a warm and humid start with hazy sunshine. The likelihood of **scattered thundershowers (around 50-60%)** increases slightly compared to Saturday, especially in the afternoon and evening. These showers could be localized but might be more widespread than Saturday's.\n",
            "*   **Temperature:**\n",
            "    *   **High:** Around **33-35°C (91-95°F)**\n",
            "    *   **Low:** Overnight around **25-27°C (77-81°F)**\n",
            "*   **Humidity:** Remains very high.\n",
            "*   **Wind:** Light and variable.\n",
            "\n",
            "---\n",
            "\n",
            "### **Weather Advisories & Recommendations:**\n",
            "\n",
            "1.  **Heat and Humidity Advisory:** The combination of high temperatures and extreme humidity will make outdoor activities strenuous.\n",
            "    *   **Stay Hydrated:** Drink plenty of water throughout the day, even if you don't feel thirsty. Avoid sugary drinks and excessive caffeine.\n",
            "    *   **Seek Shade:** Limit exposure to direct sunlight, especially between 10 AM and 4 PM.\n",
            "    *   **Light Clothing:** Wear light-colored, loose-fitting clothing.\n",
            "    *   **Indoor Activities:** Plan strenuous activities for early morning or late evening, or preferably indoors.\n",
            "\n",
            "2.  **Thunderstorm Preparedness:**\n",
            "    *   Keep an umbrella or raincoat handy, especially in the afternoons.\n",
            "    *   If thunderstorms develop, seek shelter indoors immediately. Be aware of potential for localized street waterlogging and temporary power outages during stronger storms.\n",
            "\n",
            "3.  **Air Quality:** With the heat and potential for less wind, air quality might be moderate to poor, especially in congested areas. Those with respiratory sensitivities should take precautions.\n",
            "\n",
            "Stay safe and have a good weekend!\n",
            "\n",
            "==================================================\n",
            "\n",
            "Creating weekend activity plan for Dhaka...\n",
            "Based on preferences: museums\n",
            "Considering weather conditions...\n",
            "\n",
            "🎉 Your Weekend Activity Plan:\n",
            "==================================================\n",
            "Here's a comprehensive 2-day weekend plan for your museum-focused trip to Dhaka, carefully designed to help you beat the heat and navigate the potential thundershowers!\n",
            "\n",
            "**Important Weather Advisories & Tips for Your Weekend:**\n",
            "\n",
            "*   **Stay Hydrated:** Carry a water bottle and drink frequently.\n",
            "*   **Dress Light:** Wear loose-fitting, light-colored clothing.\n",
            "*   **Umbrella/Raincoat:** Absolutely essential, especially for afternoons.\n",
            "*   **Flexible Transport:** Use ride-sharing apps (Uber/Pathao) for quick, AC-enabled travel between locations. Traffic can be unpredictable.\n",
            "*   **Indoor Focus:** Most activities are planned indoors during peak heat/rain times.\n",
            "*   **RealFeel:** Remember the RealFeel temperature will be significantly higher. Take breaks!\n",
            "\n",
            "---\n",
            "\n",
            "### **SATURDAY**\n",
            "\n",
            "**Overall Outlook:** Expect a hot, humid morning with haze, building to clouds and a moderate chance of isolated thundershowers in the late afternoon/early evening.\n",
            "\n",
            "*   **Morning (9 AM - 12 PM): Dive into National History**\n",
            "    *   **Activity:** **Bangladesh National Museum**\n",
            "    *   **Description:** Start your weekend immersing yourself in the rich history, culture, and art of Bangladesh. This is the largest museum in the country, housing extensive collections from ancient civilizations to the Liberation War. It's well air-conditioned, making it a perfect escape from the morning heat.\n",
            "    *   **Location:** Shahbagh Road, Dhaka 1000.\n",
            "    *   **Tip:** Arrive early to avoid crowds and have ample time to explore. There's a café inside for a quick coffee break if needed.\n",
            "\n",
            "*   **Afternoon (12 PM - 5 PM): Reflect on Liberation & Lunch**\n",
            "    *   **Activity 1 (12 PM - 1 PM): Lunch Break**\n",
            "        *   **Description:** Grab lunch at a nearby restaurant. Options around Shahbagh include various local eateries or cafes like \"Bohemian\" or \"Dhaka Regency\" if you prefer a hotel setting.\n",
            "    *   **Activity 2 (1 PM - 4:30 PM): Liberation War Museum**\n",
            "        *   **Description:** A poignant and essential visit. This museum meticulously documents the horrific genocide and the heroic struggle that led to Bangladesh's independence in 1971. It's a powerful and moving experience. The museum is indoors and air-conditioned.\n",
            "        *   **Location:** F-11/A and F-11/B, Segun Bagicha, Dhaka 1000. (Note: The new location is in Agargaon, but Google Maps might show the old one. Confirm the Agargaon location: Plot F/11/A, C, D, E, Agargaon, Sher-e-Bangla Nagar, Dhaka 1207).\n",
            "        *   **Tip:** Allow at least 2-3 hours here. The content can be emotionally heavy, so take your time.\n",
            "    *   **Activity 3 (4:30 PM - 5 PM): Travel & Refresh**\n",
            "        *   **Description:** Head back towards your hotel or a central area. This is when thunderstorms are most likely, so be prepared with your umbrella and choose a comfortable, air-conditioned place to relax before evening activities.\n",
            "\n",
            "*   **Evening (5 PM - 9 PM): Urban Exploration & Dinner**\n",
            "    *   **Activity:** **Dinner & Mall Exploration (or Cafe Hopping)**\n",
            "    *   **Description:** Depending on the weather, you have options.\n",
            "        *   **If it's raining/stormy:** Head to a large shopping mall like **Jamuna Future Park** (Progoti Sarani, Baridhara) or **Bashundhara City** (Panthapath, Kawran Bazar). These offer air-conditioned environments with various dining options, cafes, and entertainment. You can enjoy a leisurely dinner and perhaps some window shopping.\n",
            "        *   **If the rain holds off/clears:** Explore the vibrant café scene in areas like Banani or Gulshan. Places like **North End Coffee Roasters** (various locations) or **Crimson Cup Coffee Bangladesh** offer a relaxed ambiance. For dinner, consider a restaurant in Gulshan with international cuisine options like **Izumi** (Japanese) or **Prego** (Italian at The Westin).\n",
            "    *   **Tip:** Use ride-sharing apps for convenience and safety, especially if it's raining or late.\n",
            "\n",
            "---\n",
            "\n",
            "### **SUNDAY**\n",
            "\n",
            "**Overall Outlook:** Similar to Saturday, warm and humid with hazy sunshine. The likelihood of scattered thundershowers increases slightly, especially in the afternoon and evening.\n",
            "\n",
            "*   **Morning (9 AM - 12 PM): Old Dhaka Charm & History**\n",
            "    *   **Activity:** **Ahsan Manzil Museum (Pink Palace)**\n",
            "    *   **Description:** Journey to Old Dhaka to visit this magnificent pink palace, once the official residence of the Dhaka Nawab family. It offers a glimpse into the opulent lifestyle of the zamindars (landlords) and the history of the region. The architecture itself is a treat.\n",
            "    *   **Location:** Islampur Rd, Dhaka 1100.\n",
            "    *   **Tip:** Old Dhaka can be very crowded and chaotic, but it's an experience in itself. Hire a rickshaw for short distances if you're comfortable, or use ride-sharing. The museum is well-maintained and provides a cool escape.\n",
            "\n",
            "*   **Afternoon (12 PM - 5 PM): Lunch & Modern History**\n",
            "    *   **Activity 1 (12 PM - 1:30 PM): Old Dhaka Food Exploration**\n",
            "        *   **Description:** You can't visit Old Dhaka without trying its famous local cuisine! Seek out renowned eateries like **Haji Biryani** (Kazi Alauddin Road) for their iconic biryani, or **Beauty Boarding** for a historic dining experience. There are also many street food options, but exercise caution with hygiene given the weather.\n",
            "    *   **Activity 2 (1:30 PM - 4:30 PM): Museum of Independence**\n",
            "        *   **Description:** Located beneath the historic Suhrawardy Udyan, this modern, underground museum is a fantastic architectural marvel and a powerful tribute to Bangladesh's independence struggle. Its underground nature makes it naturally cooler and a perfect escape from the afternoon heat and potential rain.\n",
            "        *   **Location:** Suhrawardy Udyan, Dhaka (Access near the Ramna Kali Mandir side).\n",
            "        *   **Tip:** The museum is quite spacious and interactive. Take your time. Afterwards, if the weather permits, you can briefly walk around the historic park where Bangabandhu Sheikh Mujibur Rahman delivered his iconic speech.\n",
            "    *   **Activity 3 (4:30 PM - 5 PM): Relax & Refresh**\n",
            "        *   **Description:** Head back to a comfortable, air-conditioned spot. Perhaps a coffee shop or your hotel lobby to relax before your final evening plans.\n",
            "\n",
            "*   **Evening (5 PM - 9 PM): Farewell Dinner & Souvenirs**\n",
            "    *   **Activity:** **Dinner & Last-Minute Souvenir Shopping (or Relaxation)**\n",
            "    *   **Description:**\n",
            "        *   **Dinner:** Choose a restaurant for a relaxed farewell dinner. Consider **Fakruddin Biryani** (various branches) for another taste of local biryani, or explore upscale restaurants in Gulshan or Banani for a more diverse menu.\n",
            "        *   **Souvenirs:** If you're looking for last-minute souvenirs, explore the shops in **Aarong** (various locations, e.g., Gulshan, Dhanmondi) for traditional Bangladeshi crafts, clothing, and home decor. Their stores are air-conditioned and offer a pleasant shopping experience.\n",
            "        *   **Relaxation:** If you prefer a quiet evening, find a cozy cafe or lounge to unwind and reflect on your museum-filled weekend.\n",
            "    *   **Tip:** Dhaka traffic can be heavy even in the evening, so factor in travel time, especially if you have a flight or train to catch later.\n",
            "\n",
            "Enjoy your museum-packed and culturally rich weekend in Dhaka, and stay safe from the heat and rain!\n",
            "==================================================\n",
            "\n",
            "🎊 Weekend planning completed! Have a great weekend!\n"
          ]
        }
      ]
    }
  ]
}