{
  "nbformat": 4,
  "nbformat_minor": 0,
  "metadata": {
    "colab": {
      "provenance": [],
      "authorship_tag": "ABX9TyPSeqOtkXUmH3eZhY8lMwNc",
      "include_colab_link": true
    },
    "kernelspec": {
      "name": "python3",
      "display_name": "Python 3"
    },
    "language_info": {
      "name": "python"
    }
  },
  "cells": [
    {
      "cell_type": "markdown",
      "metadata": {
        "id": "view-in-github",
        "colab_type": "text"
      },
      "source": [
        "<a href=\"https://colab.research.google.com/github/Bayzid03/LangGraph-Hub/blob/main/Weekend_Activity_Planner.ipynb\" target=\"_parent\"><img src=\"https://colab.research.google.com/assets/colab-badge.svg\" alt=\"Open In Colab\"/></a>"
      ]
    },
    {
      "cell_type": "markdown",
      "source": [
        "Still Working on this project"
      ],
      "metadata": {
        "id": "YO-Eh9i4_iAv"
      }
    },
    {
      "cell_type": "code",
      "execution_count": null,
      "metadata": {
        "id": "sBSMXvh-zqUp"
      },
      "outputs": [],
      "source": [
        "import os\n",
        "from typing import TypedDict, Annotated, List\n",
        "from langgraph.graph import StateGraph, END\n",
        "from langchain_core.messages import HumanMessage, AIMessage\n",
        "from langchain_core.prompts import ChatPromptTemplate\n",
        "from langchain_google_genai import ChatGoogleGenerativeAI\n",
        "from langchain_core.runnables.graph import MermaidDrawMethod\n",
        "from IPython.display import display, Image\n",
        "from dotenv import load_dotenv\n",
        "import random"
      ]
    },
    {
      "cell_type": "code",
      "source": [
        "# Load environment variables and model\n",
        "load_dotenv()\n",
        "GOOGLE_API_KEY = os.getenv(\"GOOGLE_API_KEY\")\n",
        "os.environ[\"GOOGLE_API_KEY\"] = GOOGLE_API_KEY\n",
        "\n",
        "llm = ChatGoogleGenerativeAI(model=\"gemini-pro\", temperature=0.7)"
      ],
      "metadata": {
        "id": "v6YLzHvS3PAh"
      },
      "execution_count": null,
      "outputs": []
    },
    {
      "cell_type": "code",
      "source": [
        "# Define Agent state\n",
        "class WeekendPlannerState(TypedDict):\n",
        "    messages: Annotated[List[HumanMessage | AIMessage], \"The messages in the conversation\"]\n",
        "    location: str\n",
        "    preferences: List[str]\n",
        "    weather_info: str\n",
        "    weekend_plan: str\n",
        "\n",
        "# Prompt templates\n",
        "weather_prompt = ChatPromptTemplate.from_messages([\n",
        "    (\"system\", \"You are a weather assistant. Provide a realistic weekend weather forecast for {location}. Include Saturday and Sunday conditions, temperature, and any weather advisories.\"),\n",
        "    (\"human\", \"What's the weather forecast for this weekend in {location}?\"),\n",
        "])\n",
        "\n",
        "weekend_plan_prompt = ChatPromptTemplate.from_messages([\n",
        "    (\"system\", \"\"\"You are a helpful weekend activity planner. Create a comprehensive 2-day weekend plan for {location} based on the user's preferences: {preferences} and current weather conditions: {weather_info}.\n",
        "\n",
        "Structure your response as:\n",
        "**SATURDAY**\n",
        "- Morning (9 AM - 12 PM): [Activity]\n",
        "- Afternoon (12 PM - 5 PM): [Activity]\n",
        "- Evening (5 PM - 9 PM): [Activity]\n",
        "\n",
        "**SUNDAY**\n",
        "- Morning (9 AM - 12 PM): [Activity]\n",
        "- Afternoon (12 PM - 5 PM): [Activity]\n",
        "- Evening (5 PM - 9 PM): [Activity]\n",
        "\n",
        "Consider weather conditions and provide specific locations, addresses when possible, and brief descriptions of each activity.\"\"\"),\n",
        "    (\"human\", \"Create a weekend activity plan for me.\"),\n",
        "])"
      ],
      "metadata": {
        "id": "ClCuHaBn3tp8"
      },
      "execution_count": null,
      "outputs": []
    },
    {
      "cell_type": "code",
      "source": [
        "# Defining Agent Functions\n",
        "def input_location(state: WeekendPlannerState) -> WeekendPlannerState:\n",
        "    print(\"Please enter your city/location for the weekend activities:\")\n",
        "    user_message = input(\"Your input: \")\n",
        "    return {\n",
        "        **state,\n",
        "        \"location\": user_message,\n",
        "        \"messages\": state['messages'] + [HumanMessage(content=user_message)],\n",
        "    }\n",
        "\n",
        "def input_preferences(state: WeekendPlannerState) -> WeekendPlannerState:\n",
        "    print(f\"Please enter your activity preferences for {state['location']} (comma-separated):\")\n",
        "    print(\"Examples: outdoor activities, museums, restaurants, shopping, nightlife, cultural sites, adventure sports, relaxing activities\")\n",
        "    user_message = input(\"Your input: \")\n",
        "    return {\n",
        "        **state,\n",
        "        \"preferences\": [preference.strip() for preference in user_message.split(',')],\n",
        "        \"messages\": state['messages'] + [HumanMessage(content=user_message)],\n",
        "    }\n",
        "\n",
        "def check_weather(state: WeekendPlannerState) -> WeekendPlannerState:\n",
        "    print(f\"Checking weather forecast for {state['location']}...\")\n",
        "\n",
        "    # Get weather forecast using LLM\n",
        "    response = llm.invoke(weather_prompt.format_messages(location=state['location']))\n",
        "    weather_info = response.content\n",
        "\n",
        "    print(f\"\\nWeather Forecast:\")\n",
        "    print(weather_info)\n",
        "    print(\"\\n\" + \"=\"*50 + \"\\n\")\n",
        "\n",
        "    return {\n",
        "        **state,\n",
        "        \"weather_info\": weather_info,\n",
        "        \"messages\": state['messages'] + [AIMessage(content=weather_info)],\n",
        "    }\n",
        "\n",
        "def create_weekend_plan(state: WeekendPlannerState) -> WeekendPlannerState:\n",
        "    print(f\"Creating weekend activity plan for {state['location']}...\")\n",
        "    print(f\"Based on preferences: {', '.join(state['preferences'])}\")\n",
        "    print(\"Considering weather conditions...\\n\")\n",
        "\n",
        "    response = llm.invoke(weekend_plan_prompt.format_messages(\n",
        "        location=state['location'],\n",
        "        preferences=\", \".join(state['preferences']),\n",
        "        weather_info=state['weather_info']\n",
        "    ))\n",
        "\n",
        "    print(\"🎉 Your Weekend Activity Plan:\")\n",
        "    print(\"=\"*50)\n",
        "    print(response.content)\n",
        "    print(\"=\"*50)\n",
        "\n",
        "    return {\n",
        "        **state,\n",
        "        \"messages\": state['messages'] + [AIMessage(content=response.content)],\n",
        "        \"weekend_plan\": response.content,\n",
        "    }"
      ],
      "metadata": {
        "id": "PBDMuCG74Hr_"
      },
      "execution_count": null,
      "outputs": []
    }
  ]
}