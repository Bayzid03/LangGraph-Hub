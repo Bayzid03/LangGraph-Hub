{
 "cells": [
  {
   "cell_type": "markdown",
   "metadata": {},
   "source": [
    "Smart Customer Support Agent"
   ]
  },
  {
   "cell_type": "code",
   "execution_count": null,
   "metadata": {},
   "outputs": [],
   "source": [
    "import os\n",
    "from typing import TypedDict, Annotated, List\n",
    "from langgraph.graph import StateGraph, END\n",
    "from langchain_core.messages import HumanMessage, AIMessage\n",
    "from langchain_core.prompts import ChatPromptTemplate\n",
    "from langchain_google_genai import ChatGoogleGenerativeAI\n",
    "from langchain_core.runnables.graph import MermaidDrawMethod\n",
    "from IPython.display import display, Image\n",
    "from dotenv import load_dotenv"
   ]
  },
  {
   "cell_type": "code",
   "execution_count": null,
   "metadata": {},
   "outputs": [],
   "source": [
    "load_dotenv()\n",
    "GOOGLE_API_KEY = os.getenv(\"GOOGLE_API_KEY\")\n",
    "os.environ[\"GOOGLE_API_KEY\"] = GOOGLE_API_KEY\n",
    "llm = ChatGoogleGenerativeAI(model=\"gemini-1.5-flash\", temperature=0.2)"
   ]
  },
  {
   "cell_type": "markdown",
   "metadata": {},
   "source": [
    "Defining Agent State and Prompts"
   ]
  },
  {
   "cell_type": "code",
   "execution_count": null,
   "metadata": {},
   "outputs": [],
   "source": [
    "class SupportAgentState(TypedDict):\n",
    "    messages: Annotated[List[HumanMessage | AIMessage], \"The messages in the conversation\"]\n",
    "    user_query: str\n",
    "    query_category: str\n",
    "    solution: str\n",
    "    statisfaction_rating: int\n",
    "    follow_up_needed: bool\n",
    "    support_history: List[str]\n",
    "\n",
    "query_analysis_prompt = ChatPromptTemplate.from_messages([\n",
    "    (\"system\", \"\"\"You are a customer support query analyzer. Analyze the customer query and categorize it into ONE of these categories:\n",
    "\n",
    "Categories:\n",
    "- technical: Software bugs, login issues, app crashes, feature problems, connectivity issues\n",
    "- billing: Payment problems, subscription issues, refunds, charges, account billing\n",
    "- general: Basic questions, account information, how-to guides, product information\n",
    "- escalate: Complex issues, angry customers, legal matters, or anything requiring human intervention\n",
    "\n",
    "Return ONLY the category name (technical/billing/general/escalate) without explanation.\"\"\"),\n",
    "    (\"human\", \"Customer Query: {query}\"),\n",
    "])\n",
    "\n",
    "technical_prompt = ChatPromptTemplate.from_messages([\n",
    "    (\"system\", \"\"\"You are a technical support specialist. Provide clear, step-by-step solutions for technical issues.\n",
    "\n",
    "Format your response as:\n",
    "**Problem Diagnosed:** [Brief description]\n",
    "**Solution Steps:**\n",
    "1. [Step 1]\n",
    "2. [Step 2]\n",
    "3. [Step 3]\n",
    "**Additional Help:** [Any extra tips or resources]\n",
    "\n",
    "Keep solutions practical and easy to follow.\"\"\"),\n",
    "    (\"human\", \"Technical Issue: {query}\"),\n",
    "])\n",
    "\n",
    "billing_prompt = ChatPromptTemplate.from_messages([\n",
    "    (\"system\", \"\"\"You are a billing support specialist. Help customers with payment and subscription issues.\n",
    "\n",
    "Format your response as:\n",
    "**Issue Summary:** [Brief description]\n",
    "**Resolution Steps:**\n",
    "1. [Step 1]\n",
    "2. [Step 2]\n",
    "3. [Step 3]\n",
    "**Next Steps:** [What happens next or follow-up needed]\n",
    "\n",
    "Be empathetic and provide clear billing information.\"\"\"),\n",
    "    (\"human\", \"Billing Issue: {query}\"),\n",
    "])\n",
    "\n",
    "general_prompt = ChatPromptTemplate.from_messages([\n",
    "    (\"system\", \"\"\"You are a friendly customer service representative. Provide helpful information for general inquiries.\n",
    "\n",
    "Format your response as:\n",
    "**Answer:** [Direct answer to their question]\n",
    "**Additional Information:** [Helpful related details]\n",
    "**Resources:** [Where they can find more help]\n",
    "\n",
    "Be friendly, helpful, and informative.\"\"\"),\n",
    "    (\"human\", \"Customer Question: {query}\"),\n",
    "])"
   ]
  }
 ],
 "metadata": {
  "kernelspec": {
   "display_name": "base",
   "language": "python",
   "name": "python3"
  },
  "language_info": {
   "name": "python",
   "version": "3.12.4"
  }
 },
 "nbformat": 4,
 "nbformat_minor": 2
}
