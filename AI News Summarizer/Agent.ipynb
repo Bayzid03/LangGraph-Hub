{
  "cells": [
    {
      "cell_type": "markdown",
      "metadata": {
        "id": "view-in-github",
        "colab_type": "text"
      },
      "source": [
        "<a href=\"https://colab.research.google.com/github/Bayzid03/LangGraph-Hub/blob/main/AI%20News%20Summarizer/Agent.ipynb\" target=\"_parent\"><img src=\"https://colab.research.google.com/assets/colab-badge.svg\" alt=\"Open In Colab\"/></a>"
      ]
    },
    {
      "cell_type": "code",
      "execution_count": null,
      "id": "0334b6ea",
      "metadata": {
        "id": "0334b6ea"
      },
      "outputs": [],
      "source": [
        "import os\n",
        "from typing import TypedDict, Annotated, List, Dict\n",
        "from langgraph.graph import StateGraph, END\n",
        "from langchain_core.messages import HumanMessage, AIMessage\n",
        "from langchain_core.prompts import ChatPromptTemplate\n",
        "from langchain_google_genai import ChatGoogleGenerativeAI\n",
        "from langchain_core.runnables.graph import MermaidDrawMethod\n",
        "from Ipython.display import display, Imgage\n",
        "from dotenv import load_dotenv\n",
        "import requests\n",
        "import json\n",
        "from datetime import datetime"
      ]
    },
    {
      "cell_type": "code",
      "execution_count": null,
      "id": "df1434fe",
      "metadata": {
        "id": "df1434fe"
      },
      "outputs": [],
      "source": [
        "# load environment variables\n",
        "\n",
        "load_dotenv()\n",
        "GOOGLE_API_KEY = os.getenv(\"GOOGLE_API_KEY\")\n",
        "TAVILY_API_KEY = os.getenv(\"TAVILY_API_KEY\")\n",
        "os.environ[\"GOOGLE_API_KEY\"] = GOOGLE_API_KEY\n",
        "os.environ[\"TAVILY_API_KEY\"] = TAVILY_API_KEY\n",
        "\n",
        "llm = ChatGoogleGenerativeAI(model=\"gemini-2.5-flash-preview-05-20\", temperature=0.3)"
      ]
    },
    {
      "cell_type": "markdown",
      "source": [
        "Define Agent State and Prompts"
      ],
      "metadata": {
        "id": "mZrqza1Yoe-F"
      },
      "id": "mZrqza1Yoe-F"
    },
    {
      "cell_type": "code",
      "source": [
        "class NewsSummarizerState(TypedDict):\n",
        "  messages: Annotated[List[HumanMessage | AIMessage], \"The messages in the conversation\"]\n",
        "  search_query: str\n",
        "  search_filter: Dict[str, str]\n",
        "  raw_news_data: List[Dict]\n",
        "  processed_articles: List[Dict]\n",
        "  summary_style: str\n",
        "  final_summary: str\n",
        "\n",
        "news_search_prompt = ChatPromptTemplate.from_messages([\n",
        "    (\"system\", \"You are a news search query optimizer. Convert the user's request into an optimized search query for finding relevant news articles. Make it concise and focused.\"),\n",
        "    (\"human\", \"User request: {user_input}\\nOptimize this into a focused news search query.\"),\n",
        "])\n",
        "\n",
        "news_filter_prompt = ChatPromptTemplate.from_messages([\n",
        "    (\"system\", \"You are a news filtering assistant. Based on the user's request, determine appropriate filters for news search. Return a JSON with 'days' (1-30), 'max_results' (5-20), and 'include_domains' (empty list if no preference).\"),\n",
        "    (\"human\", \"User request: {user_input}\\nProvide search filters as JSON.\"),\n",
        "])\n",
        "\n",
        "news_summarize_prompt = ChatPromptTemplate.from_messages([\n",
        "    (\"system\", \"\"\"You are an expert news summarizer. Create a comprehensive summary of the provided news articles in {summary_style} style.\n",
        "\n",
        "Summary styles:\n",
        "- brief: 2-3 sentences per article, focus on key points\n",
        "- detailed: Full paragraph per article with context and implications\n",
        "- bullet: Key points in bullet format\n",
        "- executive: Business-focused summary with impact analysis\n",
        "\n",
        "Structure your response as:\n",
        "**NEWS SUMMARY - {search_query}**\n",
        "**Generated on: {timestamp}**\n",
        "\n",
        "**KEY HIGHLIGHTS:**\n",
        "[Overall themes and important developments]\n",
        "\n",
        "**ARTICLE SUMMARIES:**\n",
        "[Individual article summaries based on style]\n",
        "\n",
        "**SOURCES:**\n",
        "[List of sources with publication dates]\"\"\"),\n",
        "    (\"human\", \"Summarize these news articles:\\n\\n{articles_text}\"),\n",
        "])\n"
      ],
      "metadata": {
        "id": "352We-5hom7u"
      },
      "id": "352We-5hom7u",
      "execution_count": null,
      "outputs": []
    },
    {
      "cell_type": "markdown",
      "source": [
        "Define Agent Functions (Nodes)"
      ],
      "metadata": {
        "id": "eWLHxAQ50UNE"
      },
      "id": "eWLHxAQ50UNE"
    },
    {
      "cell_type": "code",
      "source": [
        "def input_search_query(state: NewsSummarizerState) -> NewsSummarizerState:\n",
        "    \"\"\"\n",
        "    Node 1: Get search query from user and optimize it using LLM\n",
        "    \"\"\"\n",
        "    print(\"📰 Welcome to AI News Summarizer!\")\n",
        "    print(\"Please enter your news topic or search query:\")\n",
        "    print(\"Examples: 'AI developments', 'climate change policy', 'tech earnings', 'global economy'\")\n",
        "    user_message = input(\"Enter your search query:\")\n",
        "\n",
        "    response = llm.invoke(news_search_prompt.format_messages(user_input=user_message))\n",
        "    query = response.content.strip()\n",
        "\n",
        "    return{\n",
        "        **state,\n",
        "        \"search_query\": query,\n",
        "        \"messages\": state[\"messages\"] + [HumanMessage(content=user_message)]\n",
        "    }\n",
        "\n",
        "def input_search_filters(state: NewsSummarizerState) -> NewsSummarizerState:\n",
        "    \"\"\"\n",
        "    Node 2: Get search filters and preferences from user\n",
        "    \"\"\"\n",
        "    print(\"Please specify your preferences:\")\n",
        "\n",
        "    # Get summary style\n",
        "    print(\"\\nSummary style options: brief, detailed, bullet, executive\")\n",
        "    style = input(\"Choose summary style (default: brief):\").strip().lower() or \"brief\"\n",
        "\n",
        "    # Get time range\n",
        "    print(\"\\nTime range options: 1 (today), 3 (last 3 days), 7 (last week), 30 (last month)\")\n",
        "    days = input(\"Days to search (default: 7):\").strip() or \"7\"\n",
        "\n",
        "    # Get number of articles\n",
        "    print(\"\\nNumber of articles: 5-20\")\n",
        "    max_results = input(\"Max articles to analyze (default: 10): \").strip() or \"10\"\n",
        "\n",
        "    filters = {\n",
        "        \"days\": int(days),\n",
        "        \"max_results\": int(max_results),\n",
        "        \"include_domains\": []\n",
        "    }\n",
        "\n",
        "    print(f\"\\n📋 Filters set: {filters}\")\n",
        "\n",
        "    return {\n",
        "        **state,\n",
        "        \"search_filters\": filters,\n",
        "        \"summary_style\": style,\n",
        "        \"messages\": state['messages'] + [HumanMessage(content=f\"Filters: {filters}, Style: {style}\")],\n",
        "    }"
      ],
      "metadata": {
        "id": "5yJCfzCL0dSu"
      },
      "id": "5yJCfzCL0dSu",
      "execution_count": null,
      "outputs": []
    }
  ],
  "metadata": {
    "kernelspec": {
      "display_name": "base",
      "language": "python",
      "name": "python3"
    },
    "language_info": {
      "name": "python",
      "version": "3.12.4"
    },
    "colab": {
      "provenance": [],
      "include_colab_link": true
    }
  },
  "nbformat": 4,
  "nbformat_minor": 5
}