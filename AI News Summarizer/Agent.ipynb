{
  "cells": [
    {
      "cell_type": "code",
      "execution_count": null,
      "id": "0334b6ea",
      "metadata": {
        "id": "0334b6ea"
      },
      "outputs": [],
      "source": [
        "import os\n",
        "from typing import TypedDict, Annotated, List, Dict\n",
        "from langgraph.graph import StateGraph, END\n",
        "from langchain_core.messages import HumanMessage, AIMessage\n",
        "from langchain_core.prompts import ChatPromptTemplate\n",
        "from langchain_google_genai import ChatGoogleGenerativeAI\n",
        "from langchain_core.runnables.graph import MermaidDrawMethod\n",
        "from Ipython.display import display, Imgage\n",
        "from dotenv import load_dotenv\n",
        "import requests\n",
        "import json\n",
        "from datetime import datetime"
      ]
    },
    {
      "cell_type": "code",
      "execution_count": null,
      "id": "df1434fe",
      "metadata": {
        "id": "df1434fe"
      },
      "outputs": [],
      "source": [
        "# load environment variables\n",
        "\n",
        "load_dotenv()\n",
        "GOOGLE_API_KEY = os.getenv(\"GOOGLE_API_KEY\")\n",
        "TAVILY_API_KEY = os.getenv(\"TAVILY_API_KEY\")\n",
        "os.environ[\"GOOGLE_API_KEY\"] = GOOGLE_API_KEY\n",
        "os.environ[\"TAVILY_API_KEY\"] = TAVILY_API_KEY\n",
        "\n",
        "llm = ChatGoogleGenerativeAI(model=\"gemini-2.5-flash-preview-05-20\", temperature=0.3)"
      ]
    },
    {
      "cell_type": "markdown",
      "source": [
        "Define Agent State and Prompts"
      ],
      "metadata": {
        "id": "mZrqza1Yoe-F"
      },
      "id": "mZrqza1Yoe-F"
    },
    {
      "cell_type": "code",
      "source": [
        "class NewsSummarizerState(TypedDict):\n",
        "  messages: Annotated[List[HumanMessage | AIMessage], \"The messages in the conversation\"]\n",
        "  search_query: str\n",
        "  search_filter: Dict[str, str]\n",
        "  raw_news_data: List[Dict]\n",
        "  processed_articles: List[Dict]\n",
        "  summary_style: str\n",
        "  final_summary: str\n",
        "\n",
        "news_search_prompt = ChatPromptTemplate.from_messages([\n",
        "    (\"system\", \"You are a news search query optimizer. Convert the user's request into an optimized search query for finding relevant news articles. Make it concise and focused.\"),\n",
        "    (\"human\", \"User request: {user_input}\\nOptimize this into a focused news search query.\"),\n",
        "])\n",
        "\n",
        "news_filter_prompt = ChatPromptTemplate.from_messages([\n",
        "    (\"system\", \"You are a news filtering assistant. Based on the user's request, determine appropriate filters for news search. Return a JSON with 'days' (1-30), 'max_results' (5-20), and 'include_domains' (empty list if no preference).\"),\n",
        "    (\"human\", \"User request: {user_input}\\nProvide search filters as JSON.\"),\n",
        "])\n",
        "\n",
        "news_summarize_prompt = ChatPromptTemplate.from_messages([\n",
        "    (\"system\", \"\"\"You are an expert news summarizer. Create a comprehensive summary of the provided news articles in {summary_style} style.\n",
        "\n",
        "Summary styles:\n",
        "- brief: 2-3 sentences per article, focus on key points\n",
        "- detailed: Full paragraph per article with context and implications\n",
        "- bullet: Key points in bullet format\n",
        "- executive: Business-focused summary with impact analysis\n",
        "\n",
        "Structure your response as:\n",
        "**NEWS SUMMARY - {search_query}**\n",
        "**Generated on: {timestamp}**\n",
        "\n",
        "**KEY HIGHLIGHTS:**\n",
        "[Overall themes and important developments]\n",
        "\n",
        "**ARTICLE SUMMARIES:**\n",
        "[Individual article summaries based on style]\n",
        "\n",
        "**SOURCES:**\n",
        "[List of sources with publication dates]\"\"\"),\n",
        "    (\"human\", \"Summarize these news articles:\\n\\n{articles_text}\"),\n",
        "])\n",
        "\n"
      ],
      "metadata": {
        "id": "352We-5hom7u"
      },
      "id": "352We-5hom7u",
      "execution_count": null,
      "outputs": []
    }
  ],
  "metadata": {
    "kernelspec": {
      "display_name": "base",
      "language": "python",
      "name": "python3"
    },
    "language_info": {
      "name": "python",
      "version": "3.12.4"
    },
    "colab": {
      "provenance": []
    }
  },
  "nbformat": 4,
  "nbformat_minor": 5
}